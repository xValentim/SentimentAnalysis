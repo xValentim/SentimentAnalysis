{
 "cells": [
  {
   "cell_type": "markdown",
   "id": "e8056ce5-0f4b-46ac-a13c-8f443e4a112a",
   "metadata": {},
   "source": [
    "## Sentiment analysis\n",
    "\n",
    "In real world, we all have constant evolution about natural language processing, one of classic task is sentiment analysis to predict text classification. This task is very important still nowdays..."
   ]
  },
  {
   "cell_type": "markdown",
   "id": "685f3035-e930-4866-9750-aef39f4bf398",
   "metadata": {},
   "source": [
    "# 1) Import dependencies"
   ]
  },
  {
   "cell_type": "code",
   "execution_count": 1,
   "id": "c2ac677b-1c68-4891-ba4d-2d3944d8b642",
   "metadata": {},
   "outputs": [],
   "source": [
    "import pyspark\n",
    "\n",
    "conf = pyspark.SparkConf()\n",
    "conf.setAppName('Minha aplicação')\n",
    "conf.setMaster('local[*]')\n",
    "\n",
    "sc = pyspark.SparkContext(conf=conf)"
   ]
  },
  {
   "cell_type": "code",
   "execution_count": 2,
   "id": "9f4b78e2-763a-41cb-9e61-86631cf02d63",
   "metadata": {},
   "outputs": [
    {
     "data": {
      "text/html": [
       "\n",
       "        <div>\n",
       "            <p><b>SparkContext</b></p>\n",
       "\n",
       "            <p><a href=\"http://ad7bf92d8f13:4040\">Spark UI</a></p>\n",
       "\n",
       "            <dl>\n",
       "              <dt>Version</dt>\n",
       "                <dd><code>v3.5.0</code></dd>\n",
       "              <dt>Master</dt>\n",
       "                <dd><code>local[*]</code></dd>\n",
       "              <dt>AppName</dt>\n",
       "                <dd><code>Minha aplicação</code></dd>\n",
       "            </dl>\n",
       "        </div>\n",
       "        "
      ],
      "text/plain": [
       "<SparkContext master=local[*] appName=Minha aplicação>"
      ]
     },
     "execution_count": 2,
     "metadata": {},
     "output_type": "execute_result"
    }
   ],
   "source": [
    "sc"
   ]
  },
  {
   "cell_type": "markdown",
   "id": "a71d33ce-bd60-4e28-a016-d328abf5bc87",
   "metadata": {},
   "source": [
    "# 1.1) Load data\n",
    "\n",
    "We will use review file to train our model."
   ]
  },
  {
   "cell_type": "code",
   "execution_count": 3,
   "id": "f714e9fd-800d-4cc3-90a2-90cccd56e55a",
   "metadata": {},
   "outputs": [],
   "source": [
    "def parse_line(line):\n",
    "    parts = line[1:-1].split('\",\"')\n",
    "    sentiment = int(parts[0])\n",
    "    title = parts[1].replace('\"\"', '\"')\n",
    "    body = parts[2].replace('\"\"', '\"')\n",
    "    return (sentiment, title, body)\n",
    "\n",
    "rdd = sc.textFile('train.csv').map(parse_line)"
   ]
  },
  {
   "cell_type": "code",
   "execution_count": 4,
   "id": "944cbf15-603d-4c75-99ed-63f04c18c768",
   "metadata": {},
   "outputs": [
    {
     "name": "stdout",
     "output_type": "stream",
     "text": [
      "The len of data is:  3600000\n"
     ]
    }
   ],
   "source": [
    "print('The len of data is: ', rdd.count())"
   ]
  },
  {
   "cell_type": "code",
   "execution_count": 5,
   "id": "b7f7cac3-4f5d-4858-b60c-bef95e231312",
   "metadata": {},
   "outputs": [
    {
     "data": {
      "text/plain": [
       "[(2,\n",
       "  'Stuning even for the non-gamer',\n",
       "  'This sound track was beautiful! It paints the senery in your mind so well I would recomend it even to people who hate vid. game music! I have played the game Chrono Cross but out of all of the games I have ever played it has the best music! It backs away from crude keyboarding and takes a fresher step with grate guitars and soulful orchestras. It would impress anyone who cares to listen! ^_^')]"
      ]
     },
     "execution_count": 5,
     "metadata": {},
     "output_type": "execute_result"
    }
   ],
   "source": [
    "# Sanity Check:\n",
    "rdd.take(1)"
   ]
  },
  {
   "cell_type": "markdown",
   "id": "351606e0-043d-4442-accf-4fb41b948d77",
   "metadata": {},
   "source": [
    "Yay! We have a dataset with 3600000 instances labaled!"
   ]
  },
  {
   "cell_type": "code",
   "execution_count": 6,
   "id": "3fac905b-b30d-4c50-bb41-86ae2c645405",
   "metadata": {},
   "outputs": [
    {
     "name": "stdout",
     "output_type": "stream",
     "text": [
      "Getting pickle file...\n"
     ]
    }
   ],
   "source": [
    "import os\n",
    "\n",
    "pickle_filename = 'reviews.pickle'\n",
    "if pickle_filename not in os.listdir():\n",
    "    print('Saving as pickle file...')\n",
    "    rdd.saveAsPickleFile(pickle_filename)\n",
    "else:\n",
    "    print('Getting pickle file...')\n",
    "    rdd = sc.pickleFile('reviews.pickle')"
   ]
  },
  {
   "cell_type": "markdown",
   "id": "e5e1f85e-f2b1-4426-88ad-2637cea9ef68",
   "metadata": {},
   "source": [
    "# 2) Let's create first Classifier!\n",
    "\n",
    "In here, we will create Naive-bayes classifier. So, let's started!"
   ]
  },
  {
   "cell_type": "markdown",
   "id": "b296c01c-31d5-4077-8d6a-daa54e768fb5",
   "metadata": {},
   "source": [
    "Remember, all data science project follow this step-by-step:\n",
    "\n",
    "- i)   Data aquisition and Sanity Check data\n",
    "- ii)  Explore data\n",
    "- iii) Pre-processing\n",
    "- iv)  Create model\n",
    "- v)   Train model\n",
    "- vi)  Evaluate model\n",
    "- vii) Deploy model\n",
    "\n",
    "In our case, we just complete i), ii) (not required to exploring in this text mode), so let's pre-processing data!"
   ]
  },
  {
   "cell_type": "markdown",
   "id": "5bb648ec-b627-4137-bba1-b4e7dcf0fa5a",
   "metadata": {},
   "source": [
    "## 2.2) Pre-processing\n",
    "\n",
    "To treat all this data, let's build a class and discuss all step-by-step:"
   ]
  },
  {
   "cell_type": "code",
   "execution_count": 7,
   "id": "43edc7ad-3803-4e63-9388-35e436a4d720",
   "metadata": {},
   "outputs": [],
   "source": [
    "import numpy as np\n",
    "\n",
    "'''\n",
    "\n",
    "Slice dataset in train-test\n",
    "\n",
    "'''\n",
    "\n",
    "def train_test_split(rdd, test_size=0.2, random_seed=42):\n",
    "    # Divida o RDD em duas partes: 70% e 30%\n",
    "    rdd_partes = rdd.randomSplit([1-test_size, test_size], seed=random_seed)\n",
    "    \n",
    "    # Acesse as partes individualmente\n",
    "    train = rdd_partes[0]\n",
    "    test = rdd_partes[1]\n",
    "    return train, test"
   ]
  },
  {
   "cell_type": "code",
   "execution_count": 8,
   "id": "8d66b73c-a546-4a4b-bbc8-ca4d9b872f03",
   "metadata": {},
   "outputs": [],
   "source": [
    "rdd_train_full, _ = train_test_split(rdd, test_size=0.55)\n",
    "rdd_train, rdd_test = train_test_split(rdd_train_full, test_size=0.2)"
   ]
  },
  {
   "cell_type": "code",
   "execution_count": 9,
   "id": "af95f470-4dcd-4dc2-b76d-23ce4d1ea0f5",
   "metadata": {},
   "outputs": [
    {
     "data": {
      "text/plain": [
       "324448"
      ]
     },
     "execution_count": 9,
     "metadata": {},
     "output_type": "execute_result"
    }
   ],
   "source": [
    "rdd_test.count()"
   ]
  },
  {
   "cell_type": "code",
   "execution_count": 10,
   "id": "8decb1c3-4266-4665-bed6-0a806b546dd2",
   "metadata": {},
   "outputs": [],
   "source": [
    "class BaseModel:\n",
    "    def __init__(self):\n",
    "        self.n_total_words = None\n",
    "        self.rdd_label_1 = None\n",
    "        self.rdd_label_2 = None\n",
    "        self.rdd_full = None\n",
    "        self.total_bag_1 = None\n",
    "        self.total_bag_2 = None\n",
    "        self.total_bag = None\n",
    "        self.log_prob_C_1 = None\n",
    "        self.log_prob_C_2 = None\n",
    "        \n",
    "    def tokenizer(self, X):\n",
    "        '''\n",
    "        \n",
    "        #TODO Tokenizer from lists\n",
    "        \n",
    "        '''\n",
    "        pass\n",
    "    \n",
    "    def get_log_probs(self, tokens, label=1):\n",
    "        '''\n",
    "        \n",
    "        #TODO get_log_probs\n",
    "        \n",
    "        '''\n",
    "        \n",
    "        pass \n",
    "    \n",
    "    def get_words(self, rdd):\n",
    "        value = rdd.map(lambda x: x[1].strip().lower() + ' ' + x[2].strip().lower()).flatMap(lambda x: x.split()).map(lambda x: (x, 1)) \\\n",
    "                .reduceByKey(lambda x, y: x + y)\n",
    "        return value\n",
    "        \n",
    "    def get_tokens(self, rdd):\n",
    "        '''\n",
    "        \n",
    "        #TODO get_tokens from rdd\n",
    "        \n",
    "        '''\n",
    "        \n",
    "        pass\n",
    "    \n",
    "    def get_count(self, rdd):\n",
    "        '''\n",
    "        \n",
    "        #TODO get_count from rdd\n",
    "        \n",
    "        '''\n",
    "        pass\n",
    "    \n",
    "    def total_words(self, rdd):\n",
    "        '''\n",
    "        \n",
    "        #TODO total_words from rdd using rdd frequencies\n",
    "        \n",
    "                \n",
    "        '''\n",
    "    \n",
    "    def to_log(self, rdd):\n",
    "        '''\n",
    "        \n",
    "        #TODO to_log from rdd counts\n",
    "        \n",
    "        '''\n",
    "        \n",
    "        pass\n",
    "    \n",
    "    def get_label(self, rdd, label=1):\n",
    "        '''\n",
    "        \n",
    "        #TODO get_label from rdd\n",
    "        \n",
    "        '''\n",
    "        \n",
    "        pass\n",
    "        \n",
    "        \n",
    "        \n",
    "    def full_outer_join(self, rdd_label_2, rdd_label_1):\n",
    "        '''\n",
    "        \n",
    "        #TODO full_outer_join from rdd_label_2 and rdd_label_1 (rdd frequencies)\n",
    "        \n",
    "        '''\n",
    "        \n",
    "        pass\n",
    "\n",
    "    def get_total_words(self, rdd_label):\n",
    "        '''\n",
    "        \n",
    "        #TODO get_total_words from rdd_label\n",
    "        \n",
    "        '''\n",
    "        \n",
    "        pass    \n",
    "    \n",
    "\n",
    "    def laplace(self, rdd, alpha=1.0):\n",
    "\n",
    "        '''\n",
    "\n",
    "        TODO LAPLACE\n",
    "\n",
    "        '''\n",
    "        \n",
    "        pass\n",
    "    "
   ]
  },
  {
   "cell_type": "code",
   "execution_count": 11,
   "id": "14cde28f-4a12-4077-85b0-b8672ff57398",
   "metadata": {},
   "outputs": [],
   "source": [
    "class NaiveBayesClassifier(BaseModel):\n",
    "    def __init__(self):\n",
    "        super(NaiveBayesClassifier, self).__init__()\n",
    "        self.sc = sc\n",
    "        self.bag = None\n",
    "        self.broadcast_bag = None\n",
    "    \n",
    "    def train(self, X, y=None):\n",
    "        \n",
    "        rdd = X\n",
    "        \n",
    "        self.n_total_words = self.total_words(self.get_count(rdd))\n",
    "        print('Get total words...')\n",
    "        self.rdd_label_1 = self.get_count(self.get_label(rdd, label=1))\n",
    "        print('Get label 1 words...')\n",
    "        self.rdd_label_2 = self.get_count(self.get_label(rdd, label=2))\n",
    "        print('Get label 2 words...')\n",
    "        self.rdd_full_temp = self.full_outer_join(self.rdd_label_2, self.rdd_label_1)\n",
    "        print('Get all log probs...')\n",
    "\n",
    "        self.rdd_full = self.to_log(self.laplace(self.rdd_full_temp))\n",
    "        \n",
    "        self.total_bag_1 = self.get_total_words(self.rdd_label_1)\n",
    "        print('Get bag 1...')\n",
    "        self.total_bag_2 = self.get_total_words(self.rdd_label_2)\n",
    "        print('Get bag 2...')\n",
    "    \n",
    "        self.total_bag = self.get_total_words(self.rdd_full)\n",
    "        print('Get total bag...')\n",
    "        \n",
    "        self.log_prob_C_1 = np.log10(self.total_bag_1 / self.total_bag)\n",
    "        self.log_prob_C_2 = np.log10(self.total_bag_2 / self.total_bag)\n",
    "        \n",
    "        print('Creating hashtable...')\n",
    "        self.bag = {k: {'log_prob_positive': lp, 'log_prob_negative': ln} for k, lp, ln in self.rdd_full.collect()}\n",
    "        print('Done!')\n",
    "        \n",
    "        return None\n",
    "\n",
    "    def predict(self, X):\n",
    "\n",
    "        tokens = self.tokenizer(X)\n",
    "        log_probs_1 = self.log_prob_C_1 + sum(self.get_log_probs(tokens, label=1))\n",
    "        log_probs_2 = self.log_prob_C_2 + sum(self.get_log_probs(tokens, label=2))\n",
    "        # print(log_probs_1, log_probs_2)\n",
    "\n",
    "        y_hat = 1 if log_probs_1 > log_probs_2 else 2\n",
    "        buffer = np.exp(np.array([log_probs_1, log_probs_2]))\n",
    "        probs = buffer / buffer.sum()\n",
    "        entropy = - probs[0] * np.log(probs[0]) - probs[1] * np.log(probs[1])\n",
    "        return y_hat, probs, entropy\n",
    "\n",
    "    def predict_rdd(self, rdd):\n",
    "        local_broadcast_bag = sc.broadcast(self.bag)\n",
    "        local_broadcast_log_prob_C_1 = sc.broadcast(self.log_prob_C_1)\n",
    "        local_broadcast_log_prob_C_2 = sc.broadcast(self.log_prob_C_2)\n",
    "        \n",
    "        def predict_review_(review):\n",
    "            tokens = review.lower().split()\n",
    "            bag = local_broadcast_bag.value\n",
    "            log_prob_C_1 = local_broadcast_log_prob_C_1.value\n",
    "            log_prob_C_2 = local_broadcast_log_prob_C_2.value\n",
    "            log_probs_1 = sum([bag[token]['log_prob_negative'] for token in tokens if token in bag]) + log_prob_C_1\n",
    "            log_probs_2 = sum([bag[token]['log_prob_positive'] for token in tokens if token in bag]) + log_prob_C_2\n",
    "            return log_probs_1, log_probs_2\n",
    "        \n",
    "        def predict_rdd_(rdd):\n",
    "            return rdd.map(lambda x: (x[1] + ' ' + x[2], x[0], predict_review_(x[1] + ' ' + x[2]))).map(lambda x: (x[0], x[1], 1 if x[2][0] > x[2][1] else 2))\n",
    "        return predict_rdd_(rdd)\n",
    "    "
   ]
  },
  {
   "cell_type": "code",
   "execution_count": 12,
   "id": "d0dbc797-2cb4-4e92-922f-1c6cea0bb6a9",
   "metadata": {},
   "outputs": [],
   "source": [
    "model = NaiveBayesClassifier()"
   ]
  },
  {
   "cell_type": "code",
   "execution_count": 13,
   "id": "78b359e8-02d4-48d2-8829-a7369fb8b2a3",
   "metadata": {},
   "outputs": [
    {
     "name": "stdout",
     "output_type": "stream",
     "text": [
      "Get total words...\n",
      "Get label 1 words...\n",
      "Get label 2 words...\n",
      "Get all log probs...\n",
      "Get bag 1...\n",
      "Get bag 2...\n",
      "Get total bag...\n",
      "Creating hashtable...\n",
      "Done!\n"
     ]
    }
   ],
   "source": [
    "model.train(rdd_train)"
   ]
  },
  {
   "cell_type": "code",
   "execution_count": 14,
   "id": "3785e87a-0d62-4484-8d4a-075972e5b372",
   "metadata": {},
   "outputs": [],
   "source": [
    "sample = '''\n",
    "    This sound track was beautiful! It paints the senery in your mind so well I would recomend it even to people who hate vid. game music! \n",
    "    I have played the game Chrono Cross but out of all of the games I have ever played it has the best music! \n",
    "    It backs away from crude keyboarding and takes a fresher step with grate guitars and soulful orchestras. It would impress anyone who cares to listen! ^_^\n",
    "'''.lower() # True label = 2 (positive)"
   ]
  },
  {
   "cell_type": "code",
   "execution_count": 15,
   "id": "b0c73012-67ac-440c-bf3f-1772ee722d77",
   "metadata": {},
   "outputs": [
    {
     "data": {
      "text/plain": [
       "(2, array([4.02157975e-04, 9.99597842e-01]), 0.0035464158168687465)"
      ]
     },
     "execution_count": 15,
     "metadata": {},
     "output_type": "execute_result"
    }
   ],
   "source": [
    "model.predict(sample)"
   ]
  },
  {
   "cell_type": "markdown",
   "id": "09947eb8-dec0-4675-a84f-33cdf2610ca7",
   "metadata": {},
   "source": [
    "## Word Cloud"
   ]
  },
  {
   "cell_type": "code",
   "execution_count": 16,
   "id": "154dbab0-f121-4122-84ce-28b390f08078",
   "metadata": {},
   "outputs": [],
   "source": [
    "def get_biggest_gradient(rdd, get_postive=True):\n",
    "    mapped = rdd.map(lambda x: (x[0], np.exp(x[1]) - np.exp(x[2])))\n",
    "    sorted_rdd = mapped.sortBy(lambda x: x[1], ascending=not get_postive)\n",
    "    return sorted_rdd"
   ]
  },
  {
   "cell_type": "code",
   "execution_count": 17,
   "id": "59ba5e7d-ac04-43f2-b9b0-3d8e178a9d45",
   "metadata": {},
   "outputs": [],
   "source": [
    "more_positive = get_biggest_gradient(model.rdd_full).take(100)\n",
    "more_negative = get_biggest_gradient(model.rdd_full, get_postive=False).take(100)"
   ]
  },
  {
   "cell_type": "code",
   "execution_count": 18,
   "id": "a6d199a5-bd1e-4b18-9b62-233ff03cb320",
   "metadata": {
    "collapsed": true,
    "jupyter": {
     "outputs_hidden": true
    }
   },
   "outputs": [
    {
     "data": {
      "text/plain": [
       "([('great', 0.04609083261618893),\n",
       "  ('love', 0.030412711580681845),\n",
       "  ('best', 0.030378116910397587),\n",
       "  ('excellent', 0.029755241562465895),\n",
       "  ('easy', 0.024180575634912264),\n",
       "  ('wonderful', 0.021751140528508545),\n",
       "  ('highly', 0.021678981523263384),\n",
       "  ('perfect', 0.020493107449738836),\n",
       "  ('favorite', 0.01939627030347198),\n",
       "  ('awesome', 0.01813581253778119),\n",
       "  ('and', 0.017785920342953537),\n",
       "  ('loves', 0.017529420057399943),\n",
       "  ('amazing', 0.01737859773901529),\n",
       "  ('well', 0.016853610504812225),\n",
       "  ('fun', 0.01604903104016305),\n",
       "  ('beautiful', 0.015247899011071701),\n",
       "  ('enjoyed', 0.01498688512503896),\n",
       "  ('loved', 0.014938995709557142),\n",
       "  ('great!', 0.014261138635231107),\n",
       "  ('good', 0.014249626752536118),\n",
       "  ('fantastic', 0.01366770029757496),\n",
       "  ('works', 0.013426625874115895),\n",
       "  ('album', 0.013422995585168691),\n",
       "  ('must', 0.012977586349611034),\n",
       "  ('classic', 0.01238458955769707),\n",
       "  ('nice', 0.012141623682665817),\n",
       "  ('life', 0.012135232271361762),\n",
       "  ('it!', 0.011789879595124904),\n",
       "  ('helps', 0.011504484272776118),\n",
       "  ('recommend', 0.011498997313393981),\n",
       "  ('pleased', 0.011459047221783694),\n",
       "  ('great.', 0.011440627138292973),\n",
       "  ('family', 0.01127222746876733),\n",
       "  ('our', 0.011200424741808539),\n",
       "  ('music', 0.01110489463764567),\n",
       "  ('is', 0.011046952065850907),\n",
       "  ('outstanding', 0.010887077964228175),\n",
       "  ('book!', 0.010887069818104493),\n",
       "  ('awesome!', 0.010748336086153611),\n",
       "  ('his', 0.010733620196671512),\n",
       "  ('brings', 0.010702538560518502),\n",
       "  ('unique', 0.010616584824100763),\n",
       "  ('also', 0.01046398973835902),\n",
       "  ('amazing.', 0.01044179039419294),\n",
       "  ('always', 0.010342976160513308),\n",
       "  ('enjoyable', 0.010138550393857785),\n",
       "  ('cd', 0.010137541741684492),\n",
       "  ('helped', 0.010104314775703232),\n",
       "  ('gives', 0.009822387207422525),\n",
       "  ('enjoy', 0.009809052370262056),\n",
       "  ('job', 0.009791615392230321),\n",
       "  (':)', 0.009779005522325178),\n",
       "  ('beautifully', 0.009772896932143092),\n",
       "  ('superb', 0.009767812070455512),\n",
       "  ('read!', 0.009710638110226346),\n",
       "  ('definitely', 0.00958391906842132),\n",
       "  ('incredible', 0.009343577271926988),\n",
       "  ('refreshing', 0.009249713338921054),\n",
       "  ('pleasantly', 0.009230029304145916),\n",
       "  ('my', 0.0092235946891229),\n",
       "  ('amazing!', 0.009171057940863743),\n",
       "  ('favorites', 0.009169093808269621),\n",
       "  ('provides', 0.009033270670796675),\n",
       "  ('her', 0.009027158960166703),\n",
       "  ('addition', 0.008994698815783147),\n",
       "  ('collection.', 0.008963786846233302),\n",
       "  ('bit', 0.008915419434432616),\n",
       "  ('excellent!', 0.008862704226748229),\n",
       "  ('greatest', 0.00886175923170989),\n",
       "  ('rock', 0.008851415958517711),\n",
       "  ('powerful', 0.008830634386383516),\n",
       "  ('resource', 0.0088069564322023),\n",
       "  ('fun!', 0.008795774862665409),\n",
       "  ('collection', 0.008794209781171364),\n",
       "  ('a', 0.008787552366854579),\n",
       "  ('happy', 0.008779684621495965),\n",
       "  ('solid', 0.008764610556507128),\n",
       "  ('delightful', 0.008758032078164727),\n",
       "  ('world', 0.008725694116075745),\n",
       "  ('songs', 0.008697800392142803),\n",
       "  ('well.', 0.008694858105179379),\n",
       "  ('terrific', 0.008658703246585285),\n",
       "  ('young', 0.008644143190295578),\n",
       "  ('awesome.', 0.008610970703462114),\n",
       "  ('read', 0.008583274732707064),\n",
       "  ('heart', 0.008573653875870661),\n",
       "  ('wonderful!', 0.008562662415042702),\n",
       "  ('fascinating', 0.008535765055551692),\n",
       "  ('journey', 0.008525193223744744),\n",
       "  ('too.', 0.008500182339928716),\n",
       "  ('keeps', 0.008483204651115003),\n",
       "  ('wonderfully', 0.008459372660276774),\n",
       "  ('excellent.', 0.008446381064329203),\n",
       "  ('especially', 0.008438367183661085),\n",
       "  ('best!', 0.008413998165493243),\n",
       "  ('little', 0.008308734663479797),\n",
       "  ('anyone', 0.008287511793276268),\n",
       "  ('song', 0.008211224197527789),\n",
       "  ('perfect.', 0.008140530829385689),\n",
       "  ('for', 0.008132419778243749)],\n",
       " [('waste', -0.04097183257936492),\n",
       "  ('not', -0.039465263133399),\n",
       "  ('worst', -0.029754631706045784),\n",
       "  ('poor', -0.02676391838505808),\n",
       "  ('money', -0.02673541269143872),\n",
       "  ('disappointed', -0.023519637055276515),\n",
       "  ('poorly', -0.022126511295230432),\n",
       "  ('bad', -0.020719061340853967),\n",
       "  ('disappointing', -0.020161244917454357),\n",
       "  ('terrible', -0.019701537068732317),\n",
       "  ('return', -0.019489199881642248),\n",
       "  ('boring', -0.019316726288837537),\n",
       "  ('horrible', -0.019227743206584696),\n",
       "  ('no', -0.01895067036834612),\n",
       "  (\"don't\", -0.01846434578535598),\n",
       "  ('was', -0.018230691960473014),\n",
       "  ('returned', -0.017767602226619092),\n",
       "  ('nothing', -0.017389543137696608),\n",
       "  ('too', -0.016792482126815778),\n",
       "  ('money.', -0.016206921646450566),\n",
       "  ('junk', -0.015743049298994036),\n",
       "  ('awful', -0.015599546207841404),\n",
       "  (\"didn't\", -0.015163946752622101),\n",
       "  ('save', -0.015088829246027734),\n",
       "  ('useless', -0.014917943045863458),\n",
       "  ('wasted', -0.014858682071295561),\n",
       "  ('tried', -0.014692748877986942),\n",
       "  ('broke', -0.01452799634910889),\n",
       "  ('disappointment.', -0.014290675609833194),\n",
       "  ('did', -0.01424662291460086),\n",
       "  ('worse', -0.014083257336262285),\n",
       "  ('terrible.', -0.014013638988211298),\n",
       "  ('buy', -0.013876182745531311),\n",
       "  ('would', -0.013793567839024634),\n",
       "  ('disappointment', -0.013772304273357858),\n",
       "  ('customer', -0.013693145803934204),\n",
       "  ('stopped', -0.013609850600411184),\n",
       "  ('unless', -0.013540664878330817),\n",
       "  ('refund', -0.0134921314969684),\n",
       "  ('defective', -0.013440508948638828),\n",
       "  ('after', -0.013355507948278125),\n",
       "  ('junk.', -0.013239681284457867),\n",
       "  ('do', -0.013234548093450468),\n",
       "  ('horrible.', -0.013148564487793162),\n",
       "  ('even', -0.013035120027056236),\n",
       "  ('returning', -0.013024613282074913),\n",
       "  ('awful.', -0.01295929789220374),\n",
       "  ('refund.', -0.012938860125890588),\n",
       "  ('sent', -0.012924061558956198),\n",
       "  ('disappointing.', -0.012917288671915397),\n",
       "  ('cheap', -0.012821119008406962),\n",
       "  ('warranty', -0.012570375919476663),\n",
       "  ('boring.', -0.01250113108022615),\n",
       "  ('stupid', -0.012365875654273339),\n",
       "  ('garbage.', -0.01234876694695215),\n",
       "  ('garbage', -0.012313877978063305),\n",
       "  (\"doesn't\", -0.012294728450933226),\n",
       "  ('worthless', -0.012275774056396523),\n",
       "  ('send', -0.01212131847278745),\n",
       "  ('pay', -0.011802477771014615),\n",
       "  ('unfortunately,', -0.011763765758593442),\n",
       "  ('product', -0.011751001495152541),\n",
       "  ('useless.', -0.011616214112683359),\n",
       "  ('sorry', -0.011425972431228691),\n",
       "  ('item', -0.011412788162142525),\n",
       "  ('maybe', -0.011390360966139604),\n",
       "  ('same', -0.011222886233468628),\n",
       "  ('support', -0.011201159573097107),\n",
       "  ('bad.', -0.011200957317433997),\n",
       "  ('avoid', -0.011178873841737715),\n",
       "  ('instead.', -0.011051183349637513),\n",
       "  ('buyer', -0.010914670407625724),\n",
       "  ('trash.', -0.010807798943337334),\n",
       "  ('failed', -0.010799038820184377),\n",
       "  (\"wouldn't\", -0.010790173216914022),\n",
       "  ('crap', -0.010702681917411954),\n",
       "  ('barely', -0.010674932453639117),\n",
       "  ('company', -0.010659491795209822),\n",
       "  ('disappointed.', -0.010606915977553338),\n",
       "  ('received', -0.01059795005688162),\n",
       "  ('boring,', -0.010528006664177856),\n",
       "  ('beware', -0.010516194546785956),\n",
       "  ('bother', -0.010510836912786222),\n",
       "  ('all.', -0.010507709828056898),\n",
       "  ('guess', -0.010496607863484386),\n",
       "  ('i', -0.010456936907998593),\n",
       "  ('hoping', -0.010406386619267788),\n",
       "  ('total', -0.010376646654881307),\n",
       "  ('piece', -0.010339460204345396),\n",
       "  ('zero', -0.01028408507897029),\n",
       "  ('off', -0.010281615492191011),\n",
       "  ('trying', -0.010206259240568338),\n",
       "  ('threw', -0.010147327812397387),\n",
       "  ('reviews', -0.010094322434520544),\n",
       "  ('attempt', -0.01005277839684306),\n",
       "  ('amazon', -0.01003671931815887),\n",
       "  ('misleading', -0.010001877290994977),\n",
       "  ('contacted', -0.009941170894625),\n",
       "  ('lame', -0.00990281805717489),\n",
       "  ('plastic', -0.00977933225290135)])"
      ]
     },
     "execution_count": 18,
     "metadata": {},
     "output_type": "execute_result"
    }
   ],
   "source": [
    "more_positive, more_negative"
   ]
  },
  {
   "cell_type": "code",
   "execution_count": 19,
   "id": "92773b07-1d46-4fb7-8f0f-0a8845ff7dee",
   "metadata": {},
   "outputs": [],
   "source": [
    "# !pip install wordcloud"
   ]
  },
  {
   "cell_type": "code",
   "execution_count": 20,
   "id": "05b11bcd-57ad-44bd-b65a-94214cd63054",
   "metadata": {},
   "outputs": [],
   "source": [
    "from wordcloud import WordCloud\n",
    "import matplotlib.pyplot as plt\n",
    "\n",
    "more_positives_d = dict(more_positive)\n",
    "more_positives_n = dict(more_negative)"
   ]
  },
  {
   "cell_type": "code",
   "execution_count": null,
   "id": "d60aa7b6-bcbb-4c77-8964-322420b089d3",
   "metadata": {},
   "outputs": [],
   "source": [
    "# Crie uma instância do WordCloud\n",
    "wordcloud = WordCloud(width=800, height=400, background_color='white').generate_from_frequencies(more_positives_d)\n",
    "\n",
    "# Plote a Word Cloud\n",
    "plt.figure(figsize=(10, 5))\n",
    "plt.imshow(wordcloud, interpolation='bilinear')\n",
    "plt.axis('off')\n",
    "plt.title('Title: More positive')\n",
    "plt.show()"
   ]
  },
  {
   "cell_type": "code",
   "execution_count": null,
   "id": "2c86f06b-63de-4745-8f39-d95713ec5137",
   "metadata": {},
   "outputs": [],
   "source": [
    "# Crie uma instância do WordCloud\n",
    "wordcloud = WordCloud(width=800, height=400, background_color='white').generate_from_frequencies(more_positives_n)\n",
    "\n",
    "# Plote a Word Cloud\n",
    "plt.figure(figsize=(10, 5))\n",
    "plt.imshow(wordcloud, interpolation='bilinear')\n",
    "plt.axis('off')\n",
    "plt.title('Title: More negative')\n",
    "plt.show()"
   ]
  },
  {
   "cell_type": "markdown",
   "id": "9e128d7c-89ec-4aeb-87bd-f0e93bb0eb0f",
   "metadata": {},
   "source": [
    "## Evaluate model"
   ]
  },
  {
   "cell_type": "code",
   "execution_count": 24,
   "id": "98a9c1bd-ead5-4fad-b850-500c5a81d930",
   "metadata": {},
   "outputs": [],
   "source": [
    "def get_accuracy(predictions):\n",
    "    '''\n",
    "    \n",
    "    #TODO get_accuracy\n",
    "    \n",
    "    '''\n",
    "    pass\n",
    "\n",
    "def get_precision(predicitons):\n",
    "    '''\n",
    "    \n",
    "    #TODO get_precision\n",
    "    \n",
    "    '''\n",
    "    pass\n",
    "    \n",
    "    \n",
    "def get_recall(predictions):\n",
    "    '''\n",
    "    \n",
    "    #TODO get_recall\n",
    "    \n",
    "    '''\n",
    "    pass\n",
    "\n",
    "def evaluate(predictions):\n",
    "    '''\n",
    "    \n",
    "    #TODO evaluate\n",
    "    \n",
    "    '''\n",
    "    pass"
   ]
  },
  {
   "cell_type": "code",
   "execution_count": 25,
   "id": "7dcc86d0-b54b-4de2-9bdb-c11d0a75c005",
   "metadata": {},
   "outputs": [],
   "source": [
    "rdd_predictions = model.predict_rdd(rdd_test)"
   ]
  },
  {
   "cell_type": "code",
   "execution_count": null,
   "id": "1b029a2a-0876-4270-94fe-825706175285",
   "metadata": {},
   "outputs": [],
   "source": [
    "predictions = rdd_predictions.collect()"
   ]
  },
  {
   "cell_type": "code",
   "execution_count": null,
   "id": "d40a8b24-2d34-47ff-9572-96d41f58594b",
   "metadata": {},
   "outputs": [],
   "source": [
    "accuracy, precision, recall, f1 = evaluate(predictions)"
   ]
  },
  {
   "cell_type": "code",
   "execution_count": null,
   "id": "ad46a7dd-a7bd-4f73-bc20-bb461ec83891",
   "metadata": {},
   "outputs": [],
   "source": [
    "print(f'Accuracy: {accuracy * 100 :.2f} %')\n",
    "print(f'Precision: {precision * 100 :.2f} %')\n",
    "print(f'Recall: {recall * 100 :.2f} %')\n",
    "print(f'F1: {f1 * 100 :.2f} %')"
   ]
  }
 ],
 "metadata": {
  "kernelspec": {
   "display_name": "Python 3 (ipykernel)",
   "language": "python",
   "name": "python3"
  },
  "language_info": {
   "codemirror_mode": {
    "name": "ipython",
    "version": 3
   },
   "file_extension": ".py",
   "mimetype": "text/x-python",
   "name": "python",
   "nbconvert_exporter": "python",
   "pygments_lexer": "ipython3",
   "version": "3.11.6"
  }
 },
 "nbformat": 4,
 "nbformat_minor": 5
}
